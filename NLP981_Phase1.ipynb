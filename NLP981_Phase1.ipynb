{
  "nbformat": 4,
  "nbformat_minor": 0,
  "metadata": {
    "colab": {
      "name": "NLP981_Phase1.ipynb",
      "provenance": [],
      "collapsed_sections": [],
      "toc_visible": true,
      "machine_shape": "hm"
    },
    "kernelspec": {
      "name": "python3",
      "display_name": "Python 3"
    },
    "language_info": {
      "codemirror_mode": {
        "name": "ipython",
        "version": 3
      },
      "file_extension": ".py",
      "mimetype": "text/x-python",
      "name": "python",
      "nbconvert_exporter": "python",
      "pygments_lexer": "ipython3",
      "version": "3.7.0"
    }
  },
  "cells": [
    {
      "cell_type": "markdown",
      "metadata": {
        "id": "0Tduc6QDQz1H"
      },
      "source": [
        "# NLP981 Final Project - Phase #1"
      ]
    },
    {
      "cell_type": "markdown",
      "metadata": {
        "id": "P0F0hIUs7oCS"
      },
      "source": [
        "*   Instructor: Javad PourMostafa\n",
        "*   Teaching Assistant: Parsa Abbasi\n",
        "*   University of Guilan, 1st semester of 2019\n",
        "*   GitHub repository : *https://github.com/JoyeBright/NLP*"
      ]
    },
    {
      "cell_type": "code",
      "metadata": {
        "id": "rVC1mwiaOZMI",
        "colab": {
          "base_uri": "https://localhost:8080/"
        },
        "outputId": "7e0f1320-1126-4600-a34e-6479d6720e31"
      },
      "source": [
        "!pip install nltk\n",
        "!pip install hazm\n",
        "!pip install stopwords_guilannlp\n",
        "!pip install -U -q PyDrive\n",
        "from pydrive.auth import GoogleAuth\n",
        "from pydrive.drive import GoogleDrive\n",
        "from google.colab import auth\n",
        "from oauth2client.client import GoogleCredentials# Authenticate and create the PyDrive client.\n",
        "auth.authenticate_user()\n",
        "gauth = GoogleAuth()\n",
        "gauth.credentials = GoogleCredentials.get_application_default()\n",
        "drive = GoogleDrive(gauth)"
      ],
      "execution_count": 1,
      "outputs": [
        {
          "output_type": "stream",
          "text": [
            "Requirement already satisfied: nltk in /usr/local/lib/python3.6/dist-packages (3.2.5)\n",
            "Requirement already satisfied: six in /usr/local/lib/python3.6/dist-packages (from nltk) (1.15.0)\n",
            "Collecting hazm\n",
            "\u001b[?25l  Downloading https://files.pythonhosted.org/packages/22/13/5a7074bc11d20dbbb46239349ac3f85f7edc148b4cf68e9b8c2f8263830c/hazm-0.7.0-py3-none-any.whl (316kB)\n",
            "\u001b[K     |████████████████████████████████| 317kB 5.6MB/s \n",
            "\u001b[?25hCollecting nltk==3.3\n",
            "\u001b[?25l  Downloading https://files.pythonhosted.org/packages/50/09/3b1755d528ad9156ee7243d52aa5cd2b809ef053a0f31b53d92853dd653a/nltk-3.3.0.zip (1.4MB)\n",
            "\u001b[K     |████████████████████████████████| 1.4MB 17.7MB/s \n",
            "\u001b[?25hCollecting libwapiti>=0.2.1; platform_system != \"Windows\"\n",
            "\u001b[?25l  Downloading https://files.pythonhosted.org/packages/bc/0f/1c9b49bb49821b5856a64ea6fac8d96a619b9f291d1f06999ea98a32c89c/libwapiti-0.2.1.tar.gz (233kB)\n",
            "\u001b[K     |████████████████████████████████| 235kB 24.3MB/s \n",
            "\u001b[?25hRequirement already satisfied: six in /usr/local/lib/python3.6/dist-packages (from nltk==3.3->hazm) (1.15.0)\n",
            "Building wheels for collected packages: nltk, libwapiti\n",
            "  Building wheel for nltk (setup.py) ... \u001b[?25l\u001b[?25hdone\n",
            "  Created wheel for nltk: filename=nltk-3.3-cp36-none-any.whl size=1394468 sha256=76faa268a0f1ccec86a9f92492ce6e8fac863864e4476b54d2050b1625744218\n",
            "  Stored in directory: /root/.cache/pip/wheels/d1/ab/40/3bceea46922767e42986aef7606a600538ca80de6062dc266c\n",
            "  Building wheel for libwapiti (setup.py) ... \u001b[?25l\u001b[?25hdone\n",
            "  Created wheel for libwapiti: filename=libwapiti-0.2.1-cp36-cp36m-linux_x86_64.whl size=154867 sha256=7090dc43a0e29344134db88d28d2a532766d8eea2bcc17955477fb1819ad0ad4\n",
            "  Stored in directory: /root/.cache/pip/wheels/66/15/54/4510dce8bb958b1cdd2c47425cbd1e1eecc0480ac9bb1fb9ab\n",
            "Successfully built nltk libwapiti\n",
            "Installing collected packages: nltk, libwapiti, hazm\n",
            "  Found existing installation: nltk 3.2.5\n",
            "    Uninstalling nltk-3.2.5:\n",
            "      Successfully uninstalled nltk-3.2.5\n",
            "Successfully installed hazm-0.7.0 libwapiti-0.2.1 nltk-3.3\n",
            "Collecting stopwords_guilannlp\n",
            "  Downloading https://files.pythonhosted.org/packages/44/bc/a01c003b59a91187e89d11e73e8bb2834bb9ae6b36fe576a4b617c90bd23/stopwords_guilannlp-13.2019.3.5-py3-none-any.whl\n",
            "Installing collected packages: stopwords-guilannlp\n",
            "Successfully installed stopwords-guilannlp-13.2019.3.5\n"
          ],
          "name": "stdout"
        }
      ]
    },
    {
      "cell_type": "code",
      "metadata": {
        "id": "aUO9K1mKO2EB",
        "colab": {
          "base_uri": "https://localhost:8080/"
        },
        "outputId": "c88541d3-325b-4251-96bd-9177e40ebdcd"
      },
      "source": [
        "import nltk\n",
        "nltk.download('punkt')"
      ],
      "execution_count": 2,
      "outputs": [
        {
          "output_type": "stream",
          "text": [
            "[nltk_data] Downloading package punkt to /root/nltk_data...\n",
            "[nltk_data]   Unzipping tokenizers/punkt.zip.\n"
          ],
          "name": "stdout"
        },
        {
          "output_type": "execute_result",
          "data": {
            "text/plain": [
              "True"
            ]
          },
          "metadata": {
            "tags": []
          },
          "execution_count": 2
        }
      ]
    },
    {
      "cell_type": "code",
      "metadata": {
        "id": "hJiCXKiUNsUQ",
        "colab": {
          "base_uri": "https://localhost:8080/"
        },
        "outputId": "f2810380-82b4-4158-b004-6f3b378b9066"
      },
      "source": [
        "sentence = \"Hello, world!\"\n",
        "print (nltk.word_tokenize(sentence))"
      ],
      "execution_count": 3,
      "outputs": [
        {
          "output_type": "stream",
          "text": [
            "['Hello', ',', 'world', '!']\n"
          ],
          "name": "stdout"
        }
      ]
    },
    {
      "cell_type": "markdown",
      "metadata": {
        "id": "_aE9xQhhQ6XS"
      },
      "source": [
        "It's the first phase of your final project for the *NLP981* course. The main idea behind this phase is to portray the develope side of *NLP*.\n",
        "\n",
        "You must code inside of this python notebook. I highly recommend you to use the *Google Colab* environment. \n",
        "\n",
        "If you have any questions, feel free to ask.\n",
        "You can use [*Quera*](https://quera.ir/course/4385/) platform for your general questions.\n",
        "\n"
      ]
    },
    {
      "cell_type": "markdown",
      "metadata": {
        "id": "EgS3aCY358dV"
      },
      "source": [
        "## Introduction"
      ]
    },
    {
      "cell_type": "markdown",
      "metadata": {
        "id": "6FG4cndz6DDq"
      },
      "source": [
        "A category predictor is going to build at this phase of the project.\n",
        "\n",
        "The predictor gets a text as input and predicts a category for that.\n",
        "\n",
        "For this purpose, you need to :\n",
        "\n",
        "1.   Load the dataset\n",
        "2.   Preprocess the text data\n",
        "3.   Implement a word representation method to represent each text as a numeric vector\n",
        "4.   Implement a classification model and train that using the training set\n",
        "5.   Predict a category for each of validation data using implemented model\n",
        "6.   Measure your work using confusion matrix and some common metrics\n",
        "\n",
        "**Important Note:** You can use any library you want in sections 1 and 2. But everything in section 3-6 need to be coded purely.\n",
        "\n"
      ]
    },
    {
      "cell_type": "markdown",
      "metadata": {
        "id": "0acil66KQ8A_"
      },
      "source": [
        "## 1) Dataset"
      ]
    },
    {
      "cell_type": "markdown",
      "metadata": {
        "id": "haH1kfj3Q9tf"
      },
      "source": [
        "The dataset you will use in this phase is called *Divar* that released by the *CafeBazaar* research team.\n",
        "\n",
        "It contains more than 900,000 posts of the *Divar* ads platform. We split this dataset into training, validation, and testing sets.\n",
        "\n",
        "The testing set is not accessible for you, and we use them to evaluate your work on the presentation day.\n",
        "\n",
        "You can download the dataset files (training and validation sets) directly from the following link :\n",
        "\n",
        "> *https://drive.google.com/open?id=1oj-fqpymjDr8QsOK-zQliiqXbVqakrFo*\n"
      ]
    },
    {
      "cell_type": "markdown",
      "metadata": {
        "id": "UdIRg1UBSOEi"
      },
      "source": [
        "### 1.1) Import"
      ]
    },
    {
      "cell_type": "code",
      "metadata": {
        "id": "gwCPJjaSQukm"
      },
      "source": [
        "import pandas as pd\n",
        "#from __future__ import unicode_literals\n",
        "from hazm import *\n",
        "from stopwords_guilannlp import *\n",
        "from nltk.tokenize import RegexpTokenizer\n",
        "import numpy as np\n",
        "import math\n",
        "import re\n",
        "import matplotlib as mpl\n",
        "import matplotlib.pyplot as plt\n",
        "import seaborn as sb\n",
        "from mpl_toolkits.axes_grid1 import make_axes_locatable\n",
        "from copy import deepcopy\n",
        "from string import punctuation\n",
        "import random\n",
        "    \n",
        "pd.set_option('display.max_rows', 500)\n",
        "pd.set_option('display.max_columns', 500)\n",
        "pd.set_option('display.width', 1000)\n",
        "\n",
        "#train_set = pd.read_csv('trainset.csv')\n",
        "#valid_set = pd.read_csv('validationset.csv')\n",
        "\n",
        "link = 'https://drive.google.com/open?id=1-D-AmUvc2fFOs53HWxoSRpy-6MtTlHRc'\n",
        "st, id = link.split('=')\n",
        "downloaded = drive.CreateFile({'id':id}) \n",
        "downloaded.GetContentFile('trainset.csv')  \n",
        "train_set = pd.read_csv('trainset.csv')\n",
        "\n",
        "link = 'https://drive.google.com/open?id=1-J4-W7HPdDowThY24hUoqCQGDW7iUNcN'\n",
        "st, id = link.split('=')\n",
        "downloaded = drive.CreateFile({'id':id}) \n",
        "downloaded.GetContentFile('validationset.csv')  \n",
        "valid_set = pd.read_csv('validationset.csv')\n",
        "\n"
      ],
      "execution_count": 4,
      "outputs": []
    },
    {
      "cell_type": "markdown",
      "metadata": {
        "id": "MWHwVPkfS-OX"
      },
      "source": [
        "### 1.2) Analyzing"
      ]
    },
    {
      "cell_type": "markdown",
      "metadata": {
        "id": "KlIKCffqU4AM"
      },
      "source": [
        "Display the top 10 rows of the train set."
      ]
    },
    {
      "cell_type": "code",
      "metadata": {
        "id": "Gw0EuzrFVIat",
        "colab": {
          "base_uri": "https://localhost:8080/"
        },
        "outputId": "aae34b99-a76d-4a7e-f3f3-b024a3e63d61"
      },
      "source": [
        "print(train_set.head(10))"
      ],
      "execution_count": 5,
      "outputs": [
        {
          "output_type": "stream",
          "text": [
            "   Unnamed: 0  Unnamed: 0.1  archive_by_user                   brand                cat1                       cat2            cat3     city      created_at                                               desc              id  image_count   mileage platform     price                                     title   type  year\n",
            "0           0        282086             True                     NaN            personal         clothing-and-shoes  shoes-belt-bag   Tehran     Monday 11AM  چکمه یکبار پوشیده شده قیمت 42\\nکفش قهوه ای سوخ...  12875614029625            3       NaN   mobile     42000                                   سایز 40  women   NaN\n",
            "1           1        762753             True        Samsung::سامسونگ  electronic-devices              mobile-tablet   mobile-phones   Tehran  Wednesday 12PM  گوشی رو تا حالا باز نکردم و تو جعبه پلمپه از د...  16051997226596            0       NaN   mobile    850000                      گوشی سامسونگ a3 2016    NaN   NaN\n",
            "2           2        805240             True                     NaN            personal        jewelry-and-watches         watches   Tehran    Tuesday 09AM  ساعت هیچ مشکلی ندارد اصل اصل هستش چون دیگه دست...  51715717387979            2       NaN   mobile    130000                     ساعت زنانه اسپریت اصل    NaN   NaN\n",
            "3           3        556730            False                     NaN            personal              baby-and-toys   personal-toys   Tehran   Thursday 06PM  دوچرخه از هرلحاظ سالمه و فقط مدت کوتاهی استفاد...   9381204619687            2       NaN   mobile    200000  فروش یک عدد دوچرخه مارک پرادو بسیار سالم    NaN   NaN\n",
            "4           4        727332             True                     NaN     leisure-hobbies         hobby-collectibles      coin-stamp   Tehran  Wednesday 09PM  14 اسکناس مطابق تصویر همه باهم 200 هزار تومان\\...  47687757949429            3       NaN      web        -1                  14 اسکناس کلکسیونی code1    NaN   NaN\n",
            "5           5        805039             True                     NaN     leisure-hobbies              sport-leisure     ball-sports   Tehran    Tuesday 11AM  فوتبال دستی حرفه ای تاشو درحد نو فقط 2ماه استف...  35888748102799            3       NaN   mobile    480000                       فوتبال دستی حرفه ای    NaN   NaN\n",
            "6           6        812617            False                     NaN        for-the-home  furniture-and-home-decore        lighting   Tehran   Thursday 08AM                            لوستر نو برای اتاق کودک  61553946516880            1       NaN   mobile     25000                                     لوستر    NaN   NaN\n",
            "7           7        295730             True                     NaN            vehicles          parts-accessories             NaN  Isfahan     Monday 10PM  4 عدد رینگ اهنی ال 90 سالم قیمت از شما من فروش...  21090520055338            0       NaN   mobile        -1                           رینگ اهنی ال 90    NaN   NaN\n",
            "8           8        777605            False           نیسان::Nissan            vehicles                       cars           light   Shiraz  Wednesday 01PM                   بیمه تا۹۵/۹/۲۷,کف دستی رنگ درعقب  27046580911179            2  380000.0   mobile  40000000                        نیسان سرانزا مدل۸۳    NaN  1383\n",
            "9           9        797079            False  پراید صندوق‌دار::Pride            vehicles                       cars           light   Tehran    Tuesday 03PM  عقب وجلوپلمب بیرنگ لاستیک نو به شرط مصرف کننده...  42106059496341            0  109000.0   mobile  14000000                                پراید سفید    NaN  1390\n"
          ],
          "name": "stdout"
        }
      ]
    },
    {
      "cell_type": "markdown",
      "metadata": {
        "id": "iqfkJST6VMXt"
      },
      "source": [
        "How many data (rows) stored in the training and validation sets?"
      ]
    },
    {
      "cell_type": "code",
      "metadata": {
        "id": "Jkiaz92zVVpy",
        "colab": {
          "base_uri": "https://localhost:8080/"
        },
        "outputId": "7094cd87-907c-4ee4-b61e-aca2198ce99e"
      },
      "source": [
        "train_len = train_set.shape[0]\n",
        "valid_len = valid_set.shape[0]\n",
        "print('Train set has {} rows.'.format(train_len))\n",
        "print('Validation set has {} rows.'.format(valid_len))"
      ],
      "execution_count": null,
      "outputs": [
        {
          "output_type": "stream",
          "text": [
            "Train set has 700000 rows.\n",
            "Validation set has 147635 rows.\n"
          ],
          "name": "stdout"
        }
      ]
    },
    {
      "cell_type": "markdown",
      "metadata": {
        "id": "9aw0x_s3_b4U"
      },
      "source": [
        "How many posts are in each category (First level categories)? (Based on training set)"
      ]
    },
    {
      "cell_type": "code",
      "metadata": {
        "id": "31PFgy46_ntw",
        "colab": {
          "base_uri": "https://localhost:8080/"
        },
        "outputId": "be7767b7-e270-496f-8dc1-d915010916d1"
      },
      "source": [
        "cat1 = train_set[\"cat1\"]\n",
        "#cat2 = train_set[\"cat2\"]\n",
        "#cat3 = train_set[\"cat3\"]\n",
        "\n",
        "#Test set = Valid set\n",
        "test_cat1 = valid_set[\"cat1\"]\n",
        "#test_cat2 = valid_set[\"cat2\"]\n",
        "#test_cat3 = valid_set[\"cat3\"]\n",
        "\n",
        "unique_cat1 = np.unique(cat1)\n",
        "\n",
        "#in the following lines of code we print how many posts are in each category\n",
        "cat1_posts_count = dict.fromkeys(unique_cat1, 0)\n",
        "for cat in cat1:\n",
        "  cat1_posts_count[cat] += 1\n",
        "\n",
        "for cat, cnt in cat1_posts_count.items():\n",
        "  print('Category \"{}\" contains {} posts.'.format(cat, cnt))\n",
        "\n",
        "dic_cat1 = {}\n",
        "for i in range(len(unique_cat1)):\n",
        "    dic_cat1[unique_cat1[i]] = i\n",
        "\n",
        "y_train_cat1 = []\n",
        "y_test_cat1 = []\n",
        "for i in range(len(cat1)):\n",
        "    y_train_cat1.append(dic_cat1[cat1[i]])\n",
        "    \n",
        "for i in range(len(test_cat1)):\n",
        "    y_test_cat1.append(dic_cat1[test_cat1[i]])\n",
        "\n",
        "y_train_cat1 = np.array(list(y_train_cat1))\n",
        "y_test_cat1 = np.array(list(y_test_cat1))\n",
        "\n",
        "#print(y_test_cat1)\n",
        "    \n",
        "    "
      ],
      "execution_count": null,
      "outputs": [
        {
          "output_type": "stream",
          "text": [
            "Category \"businesses\" contains 45660 posts.\n",
            "Category \"electronic-devices\" contains 122905 posts.\n",
            "Category \"for-the-home\" contains 214955 posts.\n",
            "Category \"leisure-hobbies\" contains 61676 posts.\n",
            "Category \"personal\" contains 102804 posts.\n",
            "Category \"vehicles\" contains 152000 posts.\n"
          ],
          "name": "stdout"
        }
      ]
    },
    {
      "cell_type": "markdown",
      "metadata": {
        "id": "KUejNXljlZD1"
      },
      "source": [
        "## 2) Preprocessing"
      ]
    },
    {
      "cell_type": "markdown",
      "metadata": {
        "id": "-j1EilpbAi-W"
      },
      "source": [
        "There are two kinds of text data in the dataset: *Title* and *Description*.\n",
        "You can use one or both of them as text inputs of your classification model. Choose a composition that gives you a higher measuring score."
      ]
    },
    {
      "cell_type": "markdown",
      "metadata": {
        "id": "cLT50bemjw3K"
      },
      "source": [
        "You need to apply some preprocessing procedures on your text data first. We want at least **4** preprocessing step from you. It can be removing stop words, removing punctation, removing or replacing digits, stemming, lemmatizing, normalization, and so on.\n",
        "\n",
        "You can use the [*Stopwords Guilan NLP*](https://github.com/JoyeBright/stopwords_guilannlp) library to access a collection of Persian stop words."
      ]
    },
    {
      "cell_type": "code",
      "metadata": {
        "id": "xPQYAeEnlrcc"
      },
      "source": [
        "#for faster result, we define the following lines of code outside the 'preprocessing' function\n",
        "normalizer = Normalizer()\n",
        "stopwords = stopwords_output(\"Persian\", \"nar\")\n",
        "lemmatizer = Lemmatizer()\n",
        "stemmer = Stemmer()\n",
        "\n",
        "\n",
        "def preprocessing(text):\n",
        "    \n",
        "    text = re.sub('<[^<]+?>','', text)\n",
        "    text = ''.join(c for c in text if not c.isdigit())\n",
        "    text = ''.join(c for c in text if c not in punctuation)\n",
        "    text = normalizer.normalize(text)\n",
        "    tokens = word_tokenize(text)\n",
        "    cleared_text = []\n",
        "    for word in tokens:\n",
        "          word = normalizer.normalize(word)\n",
        "          word = stemmer.stem(word)\n",
        "          word = lemmatizer.lemmatize(word)\n",
        "          #word = re.sub(r'\\d+', '', word)\n",
        "          if word not in stopwords and len(word) > 0:\n",
        "                cleared_text.append(word)\n",
        "    return cleared_text\n",
        "\n",
        "\n",
        "   "
      ],
      "execution_count": null,
      "outputs": []
    },
    {
      "cell_type": "markdown",
      "metadata": {
        "id": "izN13hPulonI"
      },
      "source": [
        "## 3) Word Representation"
      ]
    },
    {
      "cell_type": "markdown",
      "metadata": {
        "id": "UeC-rd4DMSUb"
      },
      "source": [
        "As you know, classification models can't deal with strings directly, and you have to represent your texts in a numerical form."
      ]
    },
    {
      "cell_type": "markdown",
      "metadata": {
        "id": "S1rGMFJmqKwm"
      },
      "source": [
        "### 3.1) Tf-idf"
      ]
    },
    {
      "cell_type": "markdown",
      "metadata": {
        "id": "VfPOmAF6qOF0"
      },
      "source": [
        "You have to implement the tf-idf vectorization method from scratch in this step. \n",
        "\n",
        "Furthermore, a function must be implemented that gives a text input and return a tf-idf vectorized representation."
      ]
    },
    {
      "cell_type": "markdown",
      "metadata": {
        "id": "nTZCMdqft4Ic"
      },
      "source": [
        "$$\\text{tf-idf}(t, d) = \\text{tf}(t, d) \\times \\text{idf}(t)$$\n",
        "\n",
        "*tf* (term-frequency) is the count of occurrences of the word `t` in specific text `d`.\n",
        "\n",
        "*idf* (inverse document-frequency) is term that is inversely proportional to the number of texts with the given word. It can be calculated this way:\n",
        "$$\\text{idf}(t) = \\text{log}\\frac{1 + n_d}{1 + n_{d(t)}} + 1$$\n",
        "where $n_d$ is the whole number of texts and $n_{d(t)}$ is the number of texts with the word `t`."
      ]
    },
    {
      "cell_type": "code",
      "metadata": {
        "id": "ZVwNZTGLqm20"
      },
      "source": [
        "column1 = \"title\"\n",
        "column2 = \"desc\"\n",
        "rows_of_train = 7350\n",
        "rows_of_test = 1750\n",
        "docs1 = train_set.loc[0:rows_of_train-1,column1]\n",
        "docs2 = train_set.loc[0:rows_of_train-1,column2]\n",
        "test_docs1  = valid_set.loc[0:rows_of_test-1,column1]\n",
        "test_docs2 = valid_set.loc[0:rows_of_test-1,column2]\n",
        "logistic_classifiers = []\n",
        "num_classes = len(unique_cat1)\n",
        "losses = []\n",
        "#BoW\n",
        "bow1 = []\n",
        "bow2 = []\n",
        "bow_test1 = []\n",
        "bow_test2 = []\n",
        "for i in range(len(docs1)):\n",
        "    bow1.append(preprocessing(docs1[i]))\n",
        "    bow2.append(preprocessing(docs2[i]))\n",
        "    #print('Documents train {} preprocessed.'.format(i+1))\n",
        "    \n",
        "for i in range(len(test_docs1)):\n",
        "    bow_test1.append(preprocessing(test_docs1[i]))\n",
        "    bow_test2.append(preprocessing(test_docs2[i]))\n",
        "    #print('Documents test {} preprocessed.'.format(i+1))\n",
        "\n",
        "#print(bow)\n",
        "\n",
        "unique_words1 = set(bow1[0]).union(set(bow1[1]))\n",
        "unique_words2 = set(bow2[0]).union(set(bow2[1]))\n",
        "unique_words_test1 = set(bow_test1[0]).union(set(bow_test1[1]))\n",
        "unique_words_test2 = set(bow_test2[0]).union(set(bow_test2[1]))\n",
        "\n",
        "\n",
        "for i in range(2,len(docs1)):\n",
        "    unique_words1 = set(bow1[i]).union(set(unique_words1))\n",
        "    unique_words2 = set(bow2[i]).union(set(unique_words2))\n",
        "\n",
        "for i in range(2,len(test_docs1)):\n",
        "    unique_words_test1 = set(bow_test1[i]).union(set(unique_words_test1))\n",
        "    unique_words_test2 = set(bow_test2[i]).union(set(unique_words_test2))\n",
        "    \n",
        "unique_words1 = set(unique_words1).union(set(unique_words_test1))\n",
        "unique_words2 = set(unique_words2).union(set(unique_words_test2))\n",
        "unique_words = set(unique_words1).union(set(unique_words2))\n",
        "\n",
        "del unique_words1\n",
        "del unique_words2\n",
        "del unique_words_test1\n",
        "del unique_words_test2\n",
        "\n",
        "#print(unique_words)\n",
        "\n",
        "\n",
        "#Now we create a dictionary for each document in TrainSet and TestSet\n",
        "Docs1 = []\n",
        "Docs2 = []\n",
        "Test_Docs1 = []\n",
        "Test_Docs2 = []\n",
        "\n",
        "for i in range(len(docs1)):\n",
        "    Docs1.append(dict.fromkeys(unique_words, 0))\n",
        "    Docs2.append(dict.fromkeys(unique_words, 0))\n",
        "\n",
        "del docs1\n",
        "\n",
        "for i in range(len(test_docs1)):\n",
        "    Test_Docs1.append(dict.fromkeys(unique_words, 0))\n",
        "    Test_Docs2.append(dict.fromkeys(unique_words, 0))\n",
        "\n",
        "del docs2\n",
        "\n",
        "for i in range(len(bow1)):\n",
        "    for word in bow1[i]:\n",
        "        Docs1[i][word] += 1\n",
        "    for word in bow2[i]:\n",
        "        Docs2[i][word] += 1\n",
        "        \n",
        "for i in range(len(bow_test1)):\n",
        "    for word in bow_test1[i]:\n",
        "        Test_Docs1[i][word] += 1\n",
        "    for word in bow_test2[i]:\n",
        "        Test_Docs2[i][word] += 1\n",
        "del bow1\n",
        "del bow2\n",
        "del bow_test1\n",
        "del bow_test2   \n",
        "    \n",
        "#TF = (Frequency of the word in the sentence) / (Total number of words in the sentence)\n",
        "def tf(doc):\n",
        "    doc_tf = dict.fromkeys(doc.keys(), 0)\n",
        "    s = sum(doc.values())\n",
        "    if s > 0 :\n",
        "        for word, cnt in doc.items():\n",
        "             doc_tf[word] = float(cnt / s )\n",
        "\n",
        "    return doc_tf\n",
        "\n",
        "\n",
        "\n",
        "#IDF: (Total number of sentences (documents))/(Number of sentences (documents) containing the word)\n",
        "def idf(docs):\n",
        "    #number of documents\n",
        "    nd = len(docs)\n",
        "    docs_idf = dict.fromkeys(docs[0].keys(), 0)\n",
        "    for doc in docs:\n",
        "        for word, cnt in doc.items():\n",
        "            if cnt > 0:\n",
        "                docs_idf[word] += 1\n",
        "                \n",
        "    for word, cnt in docs_idf.items():\n",
        "        docs_idf[word] = math.log(float(float(1+nd)/float(1+cnt))) + 1\n",
        "    return docs_idf\n"
      ],
      "execution_count": null,
      "outputs": []
    },
    {
      "cell_type": "code",
      "metadata": {
        "id": "8yyUQ-_urWW5"
      },
      "source": [
        "#Finally, the TF-IDF values are calculated by multiplying TF values with their corresponding IDF values.\n",
        "def tf_idf_compute(tf, idfs):\n",
        "    tf_idf = {}\n",
        "    for word, value in tf.items():\n",
        "        tf_idf[word] = value * idfs[word]\n",
        "    #returns tf_idf \n",
        "    return tf_idf\n",
        "\n",
        "\n",
        "\n",
        "def tf_idf(text):\n",
        "    tf_idfs = []\n",
        "    text_tfs = []\n",
        "    for doc in text:\n",
        "        text_tfs.append(tf(doc))\n",
        "    text_idfs = idf(text)\n",
        "    for i in range(len(text)):\n",
        "        tf_idfs.append(tf_idf_compute(text_tfs[i], text_idfs))\n",
        "        #print('Document {} tf_idf computed.'.format(i+1))\n",
        "    \n",
        "    #returns tf_idf vectors\n",
        "    return tf_idfs\n",
        "\n"
      ],
      "execution_count": null,
      "outputs": []
    },
    {
      "cell_type": "markdown",
      "metadata": {
        "id": "tSDMXv46CWwm"
      },
      "source": [
        "## 4) Classification"
      ]
    },
    {
      "cell_type": "markdown",
      "metadata": {
        "id": "mRpciSZZ-mb9"
      },
      "source": [
        "![alt text](https://cdn.lynda.com/course/578082/578082-637075371482276339-16x9.jpg)"
      ]
    },
    {
      "cell_type": "markdown",
      "metadata": {
        "id": "tk1EJq7B4JwX"
      },
      "source": [
        "### 4.1) Logistic Regression"
      ]
    },
    {
      "cell_type": "markdown",
      "metadata": {
        "id": "MoiyVNNz-q5k"
      },
      "source": [
        "The Logistic Regression classifier must be implemented from scratch here.\n",
        "\n",
        "You can fit the training data into the classifier after implementing linear regression."
      ]
    },
    {
      "cell_type": "code",
      "metadata": {
        "id": "hKe-JiutkC3H"
      },
      "source": [
        "#Logistic regression methods and requirements\n",
        "def linear_mult(X, w, b):\n",
        "    return np.dot(w.T, X) + b\n",
        "\n",
        "def init_with_zeros(dimension):\n",
        "    w = np.zeros((dimension,1))\n",
        "    b = 0\n",
        "    return w, b\n",
        "\n",
        "#Sigmoid activation function\n",
        "def sigmoid(z):\n",
        "    return 1 / (1 + np.exp(-z))\n",
        "\n",
        "def cost_function(y, a):\n",
        "    return -np.mean(y*np.log(a) + (1-y)*np.log(1-a))\n",
        "\n",
        "def forward_propagation(w, b, X, Y):\n",
        "    m = X.shape[1]\n",
        "    Z = linear_mult(X, w, b)\n",
        "    A = sigmoid(Z)                                 \n",
        "    cost = cost_function(Y, A)  \n",
        "    cost = np.squeeze(cost)    \n",
        "    back_require = {\n",
        "        'A': A\n",
        "    }\n",
        "    return back_require, cost\n",
        "\n",
        "def backward_propagation(b, X, Y, back_require):   \n",
        "    m = X.shape[1]\n",
        "    A = back_require['A']\n",
        "    dw = (1/m) * np.dot(X,(A-Y).T)\n",
        "    db = (1/m) * np.sum(A - Y)\n",
        "  \n",
        "    grads = {\"dw\": dw,\n",
        "             \"db\": db}\n",
        "    \n",
        "    return grads\n",
        "\n",
        "def propagate(w, b, X, Y):\n",
        "    #First, forward propagation ;\n",
        "    back_require, cost = forward_propagation(w, b, X, Y)\n",
        "    #then backward propagation\n",
        "    grads = backward_propagation(b, X, Y, back_require)\n",
        "    return grads, cost\n",
        "\n",
        "def optimize(w, b, X, Y, num_iterations, learning_rate, print_cost = False):\n",
        "    costs = []\n",
        "    for i in range(num_iterations):\n",
        "        grads, cost = propagate(w,b,X,Y)\n",
        "        \n",
        "        dw = grads[\"dw\"]\n",
        "        db = grads[\"db\"]\n",
        "        \n",
        "        #Update weights and bias term\n",
        "        w -= learning_rate*dw\n",
        "        b -= learning_rate*db\n",
        "        \n",
        "        # Record the costs values\n",
        "        if i % 100 == 0:\n",
        "            costs.append(cost)\n",
        "        \n",
        "        # Print the cost in every 100 training iterations\n",
        "        if print_cost and i % 100 == 0:\n",
        "            print (\"Cost after iteration %i: %f\" %(i, cost))    \n",
        "    params = {\"w\": w,\n",
        "              \"b\": b}\n",
        "    \n",
        "    grads = {\"dw\": dw,\n",
        "             \"db\": db}\n",
        "    return params, grads, costs\n"
      ],
      "execution_count": null,
      "outputs": []
    },
    {
      "cell_type": "code",
      "metadata": {
        "id": "5q-s73zI-xOq",
        "colab": {
          "base_uri": "https://localhost:8080/"
        },
        "outputId": "8915c528-3391-40e8-d4c3-2514df52fce7"
      },
      "source": [
        "# Training phase\n",
        "del train_set\n",
        "del valid_set\n",
        "\n",
        "X_t1 = []\n",
        "X_t2 = []\n",
        "X_test1 = []\n",
        "X_test2 = []\n",
        "\n",
        "temp1 = tf_idf(Docs1)\n",
        "del Docs1\n",
        "\n",
        "for i in range(len(temp1)):\n",
        "    X_t1.append(np.array(list(temp1[i].values())))\n",
        "del temp1\n",
        "\n",
        "temp2 = tf_idf(Docs2)\n",
        "del Docs2\n",
        "\n",
        "for i in range(len(temp2)):    \n",
        "    X_t2.append(np.array(list(temp2[i].values())))\n",
        "del temp2 \n",
        "\n",
        "Test_Docs1 = tf_idf(Test_Docs1)\n",
        "\n",
        "for i in range(len(Test_Docs1)):\n",
        "    X_test1.append(np.array(list(Test_Docs1[i].values())))\n",
        "del Test_Docs1\n",
        "\n",
        "\n",
        "Test_Docs2 = tf_idf(Test_Docs2)\n",
        "\n",
        "for i in range(len(Test_Docs2)):    \n",
        "    X_test2.append(np.array(list(Test_Docs2[i].values())))    \n",
        "del Test_Docs2\n",
        "\n",
        "\n",
        "X_t1 = np.array(list(X_t1)).T\n",
        "X_t2 = np.array(list(X_t2)).T\n",
        "\n",
        "Y_t = np.array(y_train_cat1[:rows_of_train])\n",
        "del y_train_cat1\n",
        "Y_test = np.array(y_test_cat1[:rows_of_test])\n",
        "del y_test_cat1\n",
        "\n",
        "for i in range(num_classes):\n",
        "    print('Training model for class {} :'.format(i+1))\n",
        "    y_train_logistic = deepcopy(Y_t)\n",
        "    idxs_i = y_train_logistic == i\n",
        "\n",
        "    y_train_logistic[idxs_i] = 1\n",
        "    y_train_logistic[~idxs_i] = 0\n",
        "\n",
        "    w, b = init_with_zeros(len(unique_words))\n",
        "    print('Training on \"{}\" column :'.format(column2))\n",
        "    params, grads, costs = optimize(w, b, X_t2, y_train_logistic, num_iterations = 2500, learning_rate = 0.046, print_cost = True)\n",
        "    #losses.append(costs)\n",
        "    print('Training on \"{}\" column :'.format(column1))\n",
        "    params_new, grads_new, costs_new = optimize(params['w'], params['b'], X_t1, y_train_logistic, num_iterations = 5000, learning_rate = 0.365, print_cost = True)\n",
        "    logistic_classifiers.append(params_new)\n",
        "    \n"
      ],
      "execution_count": null,
      "outputs": [
        {
          "output_type": "stream",
          "text": [
            "Training model for class 1 :\n",
            "Training on \"desc\" column :\n",
            "Cost after iteration 0: 0.693147\n",
            "Cost after iteration 100: 0.325408\n",
            "Cost after iteration 200: 0.264108\n",
            "Cost after iteration 300: 0.245652\n",
            "Cost after iteration 400: 0.238184\n",
            "Cost after iteration 500: 0.234526\n",
            "Cost after iteration 600: 0.232428\n",
            "Cost after iteration 700: 0.231037\n",
            "Cost after iteration 800: 0.229990\n",
            "Cost after iteration 900: 0.229117\n",
            "Cost after iteration 1000: 0.228337\n",
            "Cost after iteration 1100: 0.227609\n",
            "Cost after iteration 1200: 0.226911\n",
            "Cost after iteration 1300: 0.226232\n",
            "Cost after iteration 1400: 0.225564\n",
            "Cost after iteration 1500: 0.224906\n",
            "Cost after iteration 1600: 0.224254\n",
            "Cost after iteration 1700: 0.223608\n",
            "Cost after iteration 1800: 0.222967\n",
            "Cost after iteration 1900: 0.222331\n",
            "Cost after iteration 2000: 0.221700\n",
            "Cost after iteration 2100: 0.221074\n",
            "Cost after iteration 2200: 0.220452\n",
            "Cost after iteration 2300: 0.219835\n",
            "Cost after iteration 2400: 0.219222\n",
            "Training on \"title\" column :\n",
            "Cost after iteration 0: 0.215637\n",
            "Cost after iteration 100: 0.196823\n",
            "Cost after iteration 200: 0.182574\n",
            "Cost after iteration 300: 0.171242\n",
            "Cost after iteration 400: 0.161886\n",
            "Cost after iteration 500: 0.153962\n",
            "Cost after iteration 600: 0.147127\n",
            "Cost after iteration 700: 0.141151\n",
            "Cost after iteration 800: 0.135867\n",
            "Cost after iteration 900: 0.131150\n",
            "Cost after iteration 1000: 0.126905\n",
            "Cost after iteration 1100: 0.123057\n",
            "Cost after iteration 1200: 0.119545\n",
            "Cost after iteration 1300: 0.116324\n",
            "Cost after iteration 1400: 0.113353\n",
            "Cost after iteration 1500: 0.110601\n",
            "Cost after iteration 1600: 0.108042\n",
            "Cost after iteration 1700: 0.105654\n",
            "Cost after iteration 1800: 0.103418\n",
            "Cost after iteration 1900: 0.101319\n",
            "Cost after iteration 2000: 0.099343\n",
            "Cost after iteration 2100: 0.097479\n",
            "Cost after iteration 2200: 0.095716\n",
            "Cost after iteration 2300: 0.094045\n",
            "Cost after iteration 2400: 0.092460\n",
            "Cost after iteration 2500: 0.090952\n",
            "Cost after iteration 2600: 0.089516\n",
            "Cost after iteration 2700: 0.088146\n",
            "Cost after iteration 2800: 0.086838\n",
            "Cost after iteration 2900: 0.085586\n",
            "Cost after iteration 3000: 0.084388\n",
            "Cost after iteration 3100: 0.083239\n",
            "Cost after iteration 3200: 0.082137\n",
            "Cost after iteration 3300: 0.081078\n",
            "Cost after iteration 3400: 0.080059\n",
            "Cost after iteration 3500: 0.079078\n",
            "Cost after iteration 3600: 0.078134\n",
            "Cost after iteration 3700: 0.077223\n",
            "Cost after iteration 3800: 0.076344\n",
            "Cost after iteration 3900: 0.075495\n",
            "Cost after iteration 4000: 0.074675\n",
            "Cost after iteration 4100: 0.073882\n",
            "Cost after iteration 4200: 0.073114\n",
            "Cost after iteration 4300: 0.072370\n",
            "Cost after iteration 4400: 0.071650\n",
            "Cost after iteration 4500: 0.070952\n",
            "Cost after iteration 4600: 0.070274\n",
            "Cost after iteration 4700: 0.069616\n",
            "Cost after iteration 4800: 0.068978\n",
            "Cost after iteration 4900: 0.068357\n",
            "Training model for class 2 :\n",
            "Training on \"desc\" column :\n",
            "Cost after iteration 0: 0.693147\n",
            "Cost after iteration 100: 0.486796\n",
            "Cost after iteration 200: 0.456494\n",
            "Cost after iteration 300: 0.447221\n",
            "Cost after iteration 400: 0.441732\n",
            "Cost after iteration 500: 0.437121\n",
            "Cost after iteration 600: 0.432788\n",
            "Cost after iteration 700: 0.428596\n",
            "Cost after iteration 800: 0.424512\n",
            "Cost after iteration 900: 0.420526\n",
            "Cost after iteration 1000: 0.416635\n",
            "Cost after iteration 1100: 0.412837\n",
            "Cost after iteration 1200: 0.409129\n",
            "Cost after iteration 1300: 0.405511\n",
            "Cost after iteration 1400: 0.401979\n",
            "Cost after iteration 1500: 0.398532\n",
            "Cost after iteration 1600: 0.395168\n",
            "Cost after iteration 1700: 0.391885\n",
            "Cost after iteration 1800: 0.388680\n",
            "Cost after iteration 1900: 0.385552\n",
            "Cost after iteration 2000: 0.382498\n",
            "Cost after iteration 2100: 0.379515\n",
            "Cost after iteration 2200: 0.376603\n",
            "Cost after iteration 2300: 0.373759\n",
            "Cost after iteration 2400: 0.370980\n",
            "Training on \"title\" column :\n",
            "Cost after iteration 0: 0.334986\n",
            "Cost after iteration 100: 0.274536\n",
            "Cost after iteration 200: 0.238014\n",
            "Cost after iteration 300: 0.212694\n",
            "Cost after iteration 400: 0.193750\n",
            "Cost after iteration 500: 0.178883\n",
            "Cost after iteration 600: 0.166821\n",
            "Cost after iteration 700: 0.156791\n",
            "Cost after iteration 800: 0.148287\n",
            "Cost after iteration 900: 0.140963\n",
            "Cost after iteration 1000: 0.134573\n",
            "Cost after iteration 1100: 0.128936\n",
            "Cost after iteration 1200: 0.123918\n",
            "Cost after iteration 1300: 0.119413\n",
            "Cost after iteration 1400: 0.115342\n",
            "Cost after iteration 1500: 0.111640\n",
            "Cost after iteration 1600: 0.108254\n",
            "Cost after iteration 1700: 0.105144\n",
            "Cost after iteration 1800: 0.102273\n",
            "Cost after iteration 1900: 0.099614\n",
            "Cost after iteration 2000: 0.097142\n",
            "Cost after iteration 2100: 0.094836\n",
            "Cost after iteration 2200: 0.092680\n",
            "Cost after iteration 2300: 0.090657\n",
            "Cost after iteration 2400: 0.088755\n",
            "Cost after iteration 2500: 0.086962\n",
            "Cost after iteration 2600: 0.085270\n",
            "Cost after iteration 2700: 0.083668\n",
            "Cost after iteration 2800: 0.082150\n",
            "Cost after iteration 2900: 0.080708\n",
            "Cost after iteration 3000: 0.079337\n",
            "Cost after iteration 3100: 0.078031\n",
            "Cost after iteration 3200: 0.076786\n",
            "Cost after iteration 3300: 0.075596\n",
            "Cost after iteration 3400: 0.074459\n",
            "Cost after iteration 3500: 0.073369\n",
            "Cost after iteration 3600: 0.072326\n",
            "Cost after iteration 3700: 0.071324\n",
            "Cost after iteration 3800: 0.070362\n",
            "Cost after iteration 3900: 0.069438\n",
            "Cost after iteration 4000: 0.068548\n",
            "Cost after iteration 4100: 0.067691\n",
            "Cost after iteration 4200: 0.066866\n",
            "Cost after iteration 4300: 0.066069\n",
            "Cost after iteration 4400: 0.065300\n",
            "Cost after iteration 4500: 0.064558\n",
            "Cost after iteration 4600: 0.063840\n",
            "Cost after iteration 4700: 0.063146\n",
            "Cost after iteration 4800: 0.062474\n",
            "Cost after iteration 4900: 0.061823\n",
            "Training model for class 3 :\n",
            "Training on \"desc\" column :\n",
            "Cost after iteration 0: 0.693147\n",
            "Cost after iteration 100: 0.613519\n",
            "Cost after iteration 200: 0.597645\n",
            "Cost after iteration 300: 0.588430\n",
            "Cost after iteration 400: 0.580339\n",
            "Cost after iteration 500: 0.572727\n",
            "Cost after iteration 600: 0.565496\n",
            "Cost after iteration 700: 0.558614\n",
            "Cost after iteration 800: 0.552058\n",
            "Cost after iteration 900: 0.545807\n",
            "Cost after iteration 1000: 0.539842\n",
            "Cost after iteration 1100: 0.534142\n",
            "Cost after iteration 1200: 0.528692\n",
            "Cost after iteration 1300: 0.523474\n",
            "Cost after iteration 1400: 0.518473\n",
            "Cost after iteration 1500: 0.513675\n",
            "Cost after iteration 1600: 0.509067\n",
            "Cost after iteration 1700: 0.504637\n",
            "Cost after iteration 1800: 0.500373\n",
            "Cost after iteration 1900: 0.496265\n",
            "Cost after iteration 2000: 0.492305\n",
            "Cost after iteration 2100: 0.488482\n",
            "Cost after iteration 2200: 0.484789\n",
            "Cost after iteration 2300: 0.481219\n",
            "Cost after iteration 2400: 0.477765\n",
            "Training on \"title\" column :\n",
            "Cost after iteration 0: 0.403530\n",
            "Cost after iteration 100: 0.335038\n",
            "Cost after iteration 200: 0.295914\n",
            "Cost after iteration 300: 0.269243\n",
            "Cost after iteration 400: 0.249456\n",
            "Cost after iteration 500: 0.233968\n",
            "Cost after iteration 600: 0.221387\n",
            "Cost after iteration 700: 0.210884\n",
            "Cost after iteration 800: 0.201933\n",
            "Cost after iteration 900: 0.194178\n",
            "Cost after iteration 1000: 0.187368\n",
            "Cost after iteration 1100: 0.181322\n",
            "Cost after iteration 1200: 0.175904\n",
            "Cost after iteration 1300: 0.171010\n",
            "Cost after iteration 1400: 0.166559\n",
            "Cost after iteration 1500: 0.162486\n",
            "Cost after iteration 1600: 0.158741\n",
            "Cost after iteration 1700: 0.155281\n",
            "Cost after iteration 1800: 0.152070\n",
            "Cost after iteration 1900: 0.149080\n",
            "Cost after iteration 2000: 0.146286\n",
            "Cost after iteration 2100: 0.143667\n",
            "Cost after iteration 2200: 0.141207\n",
            "Cost after iteration 2300: 0.138888\n",
            "Cost after iteration 2400: 0.136699\n",
            "Cost after iteration 2500: 0.134627\n",
            "Cost after iteration 2600: 0.132662\n",
            "Cost after iteration 2700: 0.130796\n",
            "Cost after iteration 2800: 0.129020\n",
            "Cost after iteration 2900: 0.127328\n",
            "Cost after iteration 3000: 0.125712\n",
            "Cost after iteration 3100: 0.124168\n",
            "Cost after iteration 3200: 0.122690\n",
            "Cost after iteration 3300: 0.121274\n",
            "Cost after iteration 3400: 0.119916\n",
            "Cost after iteration 3500: 0.118611\n",
            "Cost after iteration 3600: 0.117357\n",
            "Cost after iteration 3700: 0.116150\n",
            "Cost after iteration 3800: 0.114987\n",
            "Cost after iteration 3900: 0.113866\n",
            "Cost after iteration 4000: 0.112785\n",
            "Cost after iteration 4100: 0.111741\n",
            "Cost after iteration 4200: 0.110732\n",
            "Cost after iteration 4300: 0.109756\n",
            "Cost after iteration 4400: 0.108811\n",
            "Cost after iteration 4500: 0.107896\n",
            "Cost after iteration 4600: 0.107010\n",
            "Cost after iteration 4700: 0.106151\n",
            "Cost after iteration 4800: 0.105317\n",
            "Cost after iteration 4900: 0.104507\n",
            "Training model for class 4 :\n",
            "Training on \"desc\" column :\n",
            "Cost after iteration 0: 0.693147\n",
            "Cost after iteration 100: 0.379180\n",
            "Cost after iteration 200: 0.329606\n",
            "Cost after iteration 300: 0.315402\n",
            "Cost after iteration 400: 0.309390\n",
            "Cost after iteration 500: 0.305874\n",
            "Cost after iteration 600: 0.303245\n",
            "Cost after iteration 700: 0.300967\n",
            "Cost after iteration 800: 0.298846\n",
            "Cost after iteration 900: 0.296805\n",
            "Cost after iteration 1000: 0.294814\n",
            "Cost after iteration 1100: 0.292860\n",
            "Cost after iteration 1200: 0.290939\n",
            "Cost after iteration 1300: 0.289048\n",
            "Cost after iteration 1400: 0.287187\n",
            "Cost after iteration 1500: 0.285354\n",
            "Cost after iteration 1600: 0.283549\n",
            "Cost after iteration 1700: 0.281773\n",
            "Cost after iteration 1800: 0.280025\n",
            "Cost after iteration 1900: 0.278304\n",
            "Cost after iteration 2000: 0.276612\n",
            "Cost after iteration 2100: 0.274947\n",
            "Cost after iteration 2200: 0.273309\n",
            "Cost after iteration 2300: 0.271698\n",
            "Cost after iteration 2400: 0.270114\n",
            "Training on \"title\" column :\n",
            "Cost after iteration 0: 0.243127\n",
            "Cost after iteration 100: 0.203514\n",
            "Cost after iteration 200: 0.178933\n",
            "Cost after iteration 300: 0.161410\n",
            "Cost after iteration 400: 0.147977\n",
            "Cost after iteration 500: 0.137210\n",
            "Cost after iteration 600: 0.128318\n",
            "Cost after iteration 700: 0.120814\n",
            "Cost after iteration 800: 0.114375\n",
            "Cost after iteration 900: 0.108773\n",
            "Cost after iteration 1000: 0.103843\n",
            "Cost after iteration 1100: 0.099461\n",
            "Cost after iteration 1200: 0.095533\n",
            "Cost after iteration 1300: 0.091985\n",
            "Cost after iteration 1400: 0.088759\n",
            "Cost after iteration 1500: 0.085809\n",
            "Cost after iteration 1600: 0.083097\n",
            "Cost after iteration 1700: 0.080593\n",
            "Cost after iteration 1800: 0.078272\n",
            "Cost after iteration 1900: 0.076112\n",
            "Cost after iteration 2000: 0.074095\n",
            "Cost after iteration 2100: 0.072206\n",
            "Cost after iteration 2200: 0.070433\n",
            "Cost after iteration 2300: 0.068764\n",
            "Cost after iteration 2400: 0.067189\n",
            "Cost after iteration 2500: 0.065700\n",
            "Cost after iteration 2600: 0.064290\n",
            "Cost after iteration 2700: 0.062952\n",
            "Cost after iteration 2800: 0.061681\n",
            "Cost after iteration 2900: 0.060471\n",
            "Cost after iteration 3000: 0.059317\n",
            "Cost after iteration 3100: 0.058216\n",
            "Cost after iteration 3200: 0.057164\n",
            "Cost after iteration 3300: 0.056157\n",
            "Cost after iteration 3400: 0.055193\n",
            "Cost after iteration 3500: 0.054269\n",
            "Cost after iteration 3600: 0.053381\n",
            "Cost after iteration 3700: 0.052529\n",
            "Cost after iteration 3800: 0.051710\n",
            "Cost after iteration 3900: 0.050921\n",
            "Cost after iteration 4000: 0.050162\n",
            "Cost after iteration 4100: 0.049430\n",
            "Cost after iteration 4200: 0.048724\n",
            "Cost after iteration 4300: 0.048043\n",
            "Cost after iteration 4400: 0.047385\n",
            "Cost after iteration 4500: 0.046749\n",
            "Cost after iteration 4600: 0.046135\n",
            "Cost after iteration 4700: 0.045540\n",
            "Cost after iteration 4800: 0.044964\n",
            "Cost after iteration 4900: 0.044406\n",
            "Training model for class 5 :\n",
            "Training on \"desc\" column :\n",
            "Cost after iteration 0: 0.693147\n",
            "Cost after iteration 100: 0.449680\n",
            "Cost after iteration 200: 0.412370\n",
            "Cost after iteration 300: 0.400805\n",
            "Cost after iteration 400: 0.394385\n",
            "Cost after iteration 500: 0.389338\n",
            "Cost after iteration 600: 0.384785\n",
            "Cost after iteration 700: 0.380496\n",
            "Cost after iteration 800: 0.376401\n",
            "Cost after iteration 900: 0.372476\n",
            "Cost after iteration 1000: 0.368708\n",
            "Cost after iteration 1100: 0.365089\n",
            "Cost after iteration 1200: 0.361611\n",
            "Cost after iteration 1300: 0.358266\n",
            "Cost after iteration 1400: 0.355047\n",
            "Cost after iteration 1500: 0.351946\n",
            "Cost after iteration 1600: 0.348959\n",
            "Cost after iteration 1700: 0.346077\n",
            "Cost after iteration 1800: 0.343297\n",
            "Cost after iteration 1900: 0.340611\n",
            "Cost after iteration 2000: 0.338015\n",
            "Cost after iteration 2100: 0.335505\n",
            "Cost after iteration 2200: 0.333075\n",
            "Cost after iteration 2300: 0.330722\n",
            "Cost after iteration 2400: 0.328441\n",
            "Training on \"title\" column :\n",
            "Cost after iteration 0: 0.282922\n",
            "Cost after iteration 100: 0.232637\n",
            "Cost after iteration 200: 0.203724\n",
            "Cost after iteration 300: 0.184195\n",
            "Cost after iteration 400: 0.169809\n",
            "Cost after iteration 500: 0.158603\n",
            "Cost after iteration 600: 0.149533\n",
            "Cost after iteration 700: 0.141986\n",
            "Cost after iteration 800: 0.135571\n",
            "Cost after iteration 900: 0.130026\n",
            "Cost after iteration 1000: 0.125167\n",
            "Cost after iteration 1100: 0.120861\n",
            "Cost after iteration 1200: 0.117007\n",
            "Cost after iteration 1300: 0.113529\n",
            "Cost after iteration 1400: 0.110368\n",
            "Cost after iteration 1500: 0.107477\n",
            "Cost after iteration 1600: 0.104819\n",
            "Cost after iteration 1700: 0.102362\n",
            "Cost after iteration 1800: 0.100082\n",
            "Cost after iteration 1900: 0.097959\n",
            "Cost after iteration 2000: 0.095974\n",
            "Cost after iteration 2100: 0.094113\n",
            "Cost after iteration 2200: 0.092364\n",
            "Cost after iteration 2300: 0.090714\n",
            "Cost after iteration 2400: 0.089156\n",
            "Cost after iteration 2500: 0.087682\n",
            "Cost after iteration 2600: 0.086282\n",
            "Cost after iteration 2700: 0.084953\n",
            "Cost after iteration 2800: 0.083688\n",
            "Cost after iteration 2900: 0.082482\n",
            "Cost after iteration 3000: 0.081330\n",
            "Cost after iteration 3100: 0.080230\n",
            "Cost after iteration 3200: 0.079176\n",
            "Cost after iteration 3300: 0.078167\n",
            "Cost after iteration 3400: 0.077199\n",
            "Cost after iteration 3500: 0.076269\n",
            "Cost after iteration 3600: 0.075375\n",
            "Cost after iteration 3700: 0.074515\n",
            "Cost after iteration 3800: 0.073687\n",
            "Cost after iteration 3900: 0.072889\n",
            "Cost after iteration 4000: 0.072119\n",
            "Cost after iteration 4100: 0.071376\n",
            "Cost after iteration 4200: 0.070658\n",
            "Cost after iteration 4300: 0.069964\n",
            "Cost after iteration 4400: 0.069293\n",
            "Cost after iteration 4500: 0.068643\n",
            "Cost after iteration 4600: 0.068014\n",
            "Cost after iteration 4700: 0.067404\n",
            "Cost after iteration 4800: 0.066812\n",
            "Cost after iteration 4900: 0.066238\n",
            "Training model for class 6 :\n",
            "Training on \"desc\" column :\n",
            "Cost after iteration 0: 0.693147\n",
            "Cost after iteration 100: 0.535569\n",
            "Cost after iteration 200: 0.508220\n",
            "Cost after iteration 300: 0.495693\n",
            "Cost after iteration 400: 0.485776\n",
            "Cost after iteration 500: 0.476686\n",
            "Cost after iteration 600: 0.468111\n",
            "Cost after iteration 700: 0.459978\n",
            "Cost after iteration 800: 0.452256\n",
            "Cost after iteration 900: 0.444923\n",
            "Cost after iteration 1000: 0.437955\n",
            "Cost after iteration 1100: 0.431332\n",
            "Cost after iteration 1200: 0.425030\n",
            "Cost after iteration 1300: 0.419031\n",
            "Cost after iteration 1400: 0.413315\n",
            "Cost after iteration 1500: 0.407863\n",
            "Cost after iteration 1600: 0.402658\n",
            "Cost after iteration 1700: 0.397684\n",
            "Cost after iteration 1800: 0.392926\n",
            "Cost after iteration 1900: 0.388370\n",
            "Cost after iteration 2000: 0.384003\n",
            "Cost after iteration 2100: 0.379813\n",
            "Cost after iteration 2200: 0.375790\n",
            "Cost after iteration 2300: 0.371922\n",
            "Cost after iteration 2400: 0.368200\n",
            "Training on \"title\" column :\n",
            "Cost after iteration 0: 0.364787\n",
            "Cost after iteration 100: 0.284442\n",
            "Cost after iteration 200: 0.244534\n",
            "Cost after iteration 300: 0.217993\n",
            "Cost after iteration 400: 0.198368\n",
            "Cost after iteration 500: 0.183009\n",
            "Cost after iteration 600: 0.170548\n",
            "Cost after iteration 700: 0.160176\n",
            "Cost after iteration 800: 0.151374\n",
            "Cost after iteration 900: 0.143789\n",
            "Cost after iteration 1000: 0.137169\n",
            "Cost after iteration 1100: 0.131328\n",
            "Cost after iteration 1200: 0.126127\n",
            "Cost after iteration 1300: 0.121459\n",
            "Cost after iteration 1400: 0.117240\n",
            "Cost after iteration 1500: 0.113404\n",
            "Cost after iteration 1600: 0.109897\n",
            "Cost after iteration 1700: 0.106674\n",
            "Cost after iteration 1800: 0.103701\n",
            "Cost after iteration 1900: 0.100947\n",
            "Cost after iteration 2000: 0.098386\n",
            "Cost after iteration 2100: 0.095997\n",
            "Cost after iteration 2200: 0.093763\n",
            "Cost after iteration 2300: 0.091668\n",
            "Cost after iteration 2400: 0.089697\n",
            "Cost after iteration 2500: 0.087840\n",
            "Cost after iteration 2600: 0.086086\n",
            "Cost after iteration 2700: 0.084425\n",
            "Cost after iteration 2800: 0.082851\n",
            "Cost after iteration 2900: 0.081356\n",
            "Cost after iteration 3000: 0.079934\n",
            "Cost after iteration 3100: 0.078579\n",
            "Cost after iteration 3200: 0.077286\n",
            "Cost after iteration 3300: 0.076050\n",
            "Cost after iteration 3400: 0.074869\n",
            "Cost after iteration 3500: 0.073737\n",
            "Cost after iteration 3600: 0.072652\n",
            "Cost after iteration 3700: 0.071610\n",
            "Cost after iteration 3800: 0.070609\n",
            "Cost after iteration 3900: 0.069647\n",
            "Cost after iteration 4000: 0.068720\n",
            "Cost after iteration 4100: 0.067828\n",
            "Cost after iteration 4200: 0.066967\n",
            "Cost after iteration 4300: 0.066136\n",
            "Cost after iteration 4400: 0.065334\n",
            "Cost after iteration 4500: 0.064559\n",
            "Cost after iteration 4600: 0.063809\n",
            "Cost after iteration 4700: 0.063084\n",
            "Cost after iteration 4800: 0.062381\n",
            "Cost after iteration 4900: 0.061700\n"
          ],
          "name": "stdout"
        }
      ]
    },
    {
      "cell_type": "markdown",
      "metadata": {
        "id": "k089_muZ6j-j"
      },
      "source": [
        "## 5) Prediction"
      ]
    },
    {
      "cell_type": "markdown",
      "metadata": {
        "id": "Kc5dl49O3aST"
      },
      "source": [
        "Now you can predict a category for each of the validation data using the implemented classifier."
      ]
    },
    {
      "cell_type": "code",
      "metadata": {
        "id": "0bM9Shkx3x7Z"
      },
      "source": [
        "def predict(w, b, X):\n",
        "    m = X.shape[1]\n",
        "    Y_prediction = np.zeros((1,m))\n",
        "    Z = linear_mult(X, w, b)\n",
        "    A = sigmoid(Z)\n",
        "    for i in range(m):\n",
        "       # Y_prediction[0][i] = 1 if A[0][i] > .5 else 0    \n",
        "        Y_prediction[0][i] = A[0][i]\n",
        "    return Y_prediction\n",
        "\n",
        "def predict_one_vs_all(logistic_classifiers, X, num_classes):\n",
        "    scores = np.zeros((num_classes, X.shape[1]))\n",
        "    for i in range(num_classes):\n",
        "        logistic = logistic_classifiers[i]\n",
        "        scores[i, : ] = predict(logistic['w'], logistic['b'], X)\n",
        "    pred_X = np.argmax(scores, axis=0)\n",
        "    return pred_X\n",
        "\n",
        "\n",
        "X_test1 = np.array(list(X_test1)).T\n",
        "X_test2 = np.array(list(X_test2)).T\n",
        "\n",
        "pred_train1_one_vs_all = predict_one_vs_all(logistic_classifiers, X_t1, num_classes)\n",
        "pred_train2_one_vs_all = predict_one_vs_all(logistic_classifiers, X_t2, num_classes)\n",
        "\n",
        "pred_test1_one_vs_all = predict_one_vs_all(logistic_classifiers, X_test1, num_classes)\n",
        "pred_test2_one_vs_all = predict_one_vs_all(logistic_classifiers, X_test2, num_classes)\n"
      ],
      "execution_count": null,
      "outputs": []
    },
    {
      "cell_type": "markdown",
      "metadata": {
        "id": "JsxqAwVvwOdD"
      },
      "source": [
        "## 6) Evaluation"
      ]
    },
    {
      "cell_type": "markdown",
      "metadata": {
        "id": "75Ar7r9pyRLq"
      },
      "source": [
        "It's time to evaluate your model using predicted categories for validation data.\n",
        "\n",
        "You need to create a confusion matrix based on your prediction and the real labels. Then you can use this confusion matrix for calculation other measuring metrics. \n",
        "\n",
        "As this problem is a multi-class problem, the calculation formula is a little different from the general case. Read [this article](https://towardsdatascience.com/multi-class-metrics-made-simple-part-i-precision-and-recall-9250280bddc2) for more information."
      ]
    },
    {
      "cell_type": "markdown",
      "metadata": {
        "id": "WZ-19cA3wiqT"
      },
      "source": [
        "### 6.1) Confusion matrix"
      ]
    },
    {
      "cell_type": "code",
      "metadata": {
        "id": "KB5CCVKbw2Po",
        "colab": {
          "base_uri": "https://localhost:8080/",
          "height": 602
        },
        "outputId": "69ddcbad-8d8d-4ac4-e0a4-f029df9cb526"
      },
      "source": [
        "mpl.style.use('seaborn')\n",
        "\n",
        "conf_arr = np.zeros((num_classes, num_classes))\n",
        "\n",
        "for i in range(len(pred_test1_one_vs_all)):\n",
        "        conf_arr[pred_test1_one_vs_all[i]][Y_test[i]] += 1\n",
        "\n",
        "print(conf_arr)\n",
        "\n",
        "summ = conf_arr.sum()\n",
        "\n",
        "#conf_arr = conf_arr * 100.0 / ( 1.0 * summ )\n",
        "\n",
        "df_cm = pd.DataFrame(conf_arr, \n",
        "  index = unique_cat1,\n",
        "  columns = unique_cat1)\n",
        "\n",
        "fig = plt.figure()\n",
        "\n",
        "plt.clf()\n",
        "\n",
        "ax = fig.add_subplot(111)\n",
        "ax.set_aspect(1)\n",
        "\n",
        "cmap = sb.cubehelix_palette(light=1, as_cmap=True)\n",
        "\n",
        "res = sb.heatmap(df_cm, annot=True, vmin=0.0, vmax=np.max(conf_arr), fmt='.2f', cmap=cmap)\n",
        "\n",
        "res.invert_yaxis()\n",
        "\n",
        "plt.yticks([0.5,1.5,2.5,3.5,4.5,5.5], unique_cat1,va='center')\n",
        "\n",
        "print('\\n\\n')\n",
        "\n",
        "plt.title('Confusion Matrix')\n",
        "\n",
        "plt.savefig('confusion_matrix.png', dpi=700, bbox_inches='tight' )\n",
        "\n",
        "plt.show()"
      ],
      "execution_count": null,
      "outputs": [
        {
          "output_type": "stream",
          "text": [
            "[[ 55.   1.   6.   4.   3.   3.]\n",
            " [  3. 245.   3.   2.   3.   5.]\n",
            " [ 37.  42. 512.  27.  30.  44.]\n",
            " [  2.   0.   2. 112.   4.   0.]\n",
            " [  6.   3.  14.   6. 221.   3.]\n",
            " [  5.   7.  13.   5.   4. 318.]]\n",
            "\n",
            "\n",
            "\n"
          ],
          "name": "stdout"
        },
        {
          "output_type": "display_data",
          "data": {
            "image/png": "[encoded data removed]",
            "text/plain": [
              "<Figure size 576x396 with 2 Axes>"
            ]
          },
          "metadata": {
            "tags": []
          }
        }
      ]
    },
    {
      "cell_type": "markdown",
      "metadata": {
        "id": "SM6GgtHNwl1a"
      },
      "source": [
        "### 6.2) Accuracy"
      ]
    },
    {
      "cell_type": "markdown",
      "metadata": {
        "id": "9hL4wy510lEw"
      },
      "source": [
        "$$\\text{Accuracy} = \\frac{TP + TN}{TP + FP + FN + TN}$$"
      ]
    },
    {
      "cell_type": "code",
      "metadata": {
        "id": "eXPscPgkw4_S",
        "colab": {
          "base_uri": "https://localhost:8080/"
        },
        "outputId": "b0077113-5fde-4dfb-d78a-79920f1e58b3"
      },
      "source": [
        "# Compute the accuracy of the training data and validation data\n",
        "\n",
        "corrects = 0\n",
        "for i in range(len(pred_train1_one_vs_all)):\n",
        "    if int(Y_t[i]) is int(pred_train1_one_vs_all[i]):\n",
        "        corrects += 1\n",
        "        \n",
        "accuracy = float(corrects / len(pred_train1_one_vs_all))*100\n",
        "print('Training dataset accuracy (using \"{}\" column): {} %'.format (column1, accuracy))\n",
        "\n",
        "corrects = 0\n",
        "for i in range(len(pred_test1_one_vs_all)):\n",
        "    if int(Y_test[i]) is int(pred_test1_one_vs_all[i]):\n",
        "        corrects += 1\n",
        "        \n",
        "accuracy = float(corrects / len(Y_test))*100\n",
        "\n",
        "print ('Validation dataset accuracy (using \"{}\" column): {} % '.format (column1, accuracy))\n",
        "\n",
        "#print 'Test datast accuracy: %f' % (np.mean(y_test == pred_test_one_vs_all))\n"
      ],
      "execution_count": null,
      "outputs": [
        {
          "output_type": "stream",
          "text": [
            "Training dataset accuracy (using \"title\" column): 96.0408163265306 %\n",
            "Validation dataset accuracy (using \"title\" column): 83.6 % \n"
          ],
          "name": "stdout"
        }
      ]
    },
    {
      "cell_type": "markdown",
      "metadata": {
        "id": "nTFur0U5wsmO"
      },
      "source": [
        "### 6.3) Precision"
      ]
    },
    {
      "cell_type": "markdown",
      "metadata": {
        "id": "frrTkQWG09fd"
      },
      "source": [
        "$$\\text{Precision} = \\frac{TP}{TP + FP}$$"
      ]
    },
    {
      "cell_type": "code",
      "metadata": {
        "id": "q1SGaY9qw7Z4",
        "colab": {
          "base_uri": "https://localhost:8080/"
        },
        "outputId": "5ed18bf2-7fc1-4eb2-c6f2-6e9e2ac3ec71"
      },
      "source": [
        "#Similar to the binary case, we can define precision for each of the classes\n",
        "precision = []\n",
        "#we append the precision for each class to the variable 'precision'\n",
        "for i in range(num_classes):\n",
        "  precision.append(conf_arr[i][i] / np.sum(conf_arr[i], axis = 0))\n",
        "\n",
        "print('Precisions per classes are : {}'.format(precision))\n",
        "\n",
        "macro_precision = 100 * np.sum(precision) / num_classes\n",
        "\n",
        "print('Macro averaged Precision is : {} %'.format(macro_precision))\n",
        "\n",
        "weighted_precision = 0\n",
        "total = 0\n",
        "for i in range(num_classes):\n",
        "  weighted_precision += np.sum(conf_arr, axis = 0)[i] * precision[i]\n",
        "  total += np.sum(conf_arr, axis = 0)[i]\n",
        "\n",
        "weighted_precision = 100 * weighted_precision / total\n",
        "print('Weighted Precision is : {} %'.format(weighted_precision))"
      ],
      "execution_count": null,
      "outputs": [
        {
          "output_type": "stream",
          "text": [
            "Precisions per classes are : [0.7638888888888888, 0.9386973180076629, 0.7398843930635838, 0.9333333333333333, 0.8735177865612648, 0.9034090909090909]\n",
            "Macro averaged Precision is : 85.87884684606372 %\n",
            "Weighted Precision is : 84.75554407423319 %\n"
          ],
          "name": "stdout"
        }
      ]
    },
    {
      "cell_type": "markdown",
      "metadata": {
        "id": "lQcpDrm1wuhU"
      },
      "source": [
        "### 6.4) Recall"
      ]
    },
    {
      "cell_type": "markdown",
      "metadata": {
        "id": "QBb1eop61JlG"
      },
      "source": [
        "$$\\text{Recall} = \\frac{TP}{TP + FN}$$"
      ]
    },
    {
      "cell_type": "code",
      "metadata": {
        "id": "w8bLKc6Ew_iR",
        "colab": {
          "base_uri": "https://localhost:8080/"
        },
        "outputId": "7a62bc79-4a7d-4ca5-d659-07dfd0643ada"
      },
      "source": [
        "#Similar to the binary case, we can define recall for each of the classes\n",
        "recall = []\n",
        "#We append the recall for each class to the variable 'recall'\n",
        "for i in range(num_classes):\n",
        "  recall.append(conf_arr[i][i] / np.sum(conf_arr, axis = 0)[i])\n",
        "  \n",
        "print('Recalls per classes are : {}'.format(recall))\n",
        "\n",
        "macro_recall = 100 * np.sum(recall) / num_classes\n",
        "print('Macro averaged Recall is : {} %'.format(macro_recall))\n",
        "\n",
        "weighted_recall = 0\n",
        "for i in range(num_classes):\n",
        "  weighted_recall += np.sum(conf_arr, axis = 0)[i] * recall[i]\n",
        "\n",
        "weighted_recall = 100 * weighted_recall / total\n",
        "print('Weighted Recall is : {} %'.format(weighted_recall))  "
      ],
      "execution_count": null,
      "outputs": [
        {
          "output_type": "stream",
          "text": [
            "Recalls per classes are : [0.5092592592592593, 0.8221476510067114, 0.9309090909090909, 0.717948717948718, 0.8339622641509434, 0.8525469168900804]\n",
            "Macro averaged Recall is : 77.77956500274672 %\n",
            "Weighted Recall is : 83.6 %\n"
          ],
          "name": "stdout"
        }
      ]
    },
    {
      "cell_type": "markdown",
      "metadata": {
        "id": "VWx42Dr5wx4m"
      },
      "source": [
        "### 6.5) F1 score"
      ]
    },
    {
      "cell_type": "markdown",
      "metadata": {
        "id": "hdVnZfm21SCM"
      },
      "source": [
        "$$\\text{F1 score} = 2\\times \\frac{(Recall \\times  Precision)}{Recall + Precision}$$ "
      ]
    },
    {
      "cell_type": "code",
      "metadata": {
        "id": "4FkCog8ExBXA",
        "colab": {
          "base_uri": "https://localhost:8080/"
        },
        "outputId": "d33c0355-422e-4ee1-f355-9d9cd1169fca"
      },
      "source": [
        "#F1-score is a function of precision and recall\n",
        "#we can now compute the per-class F1-score\n",
        "f1_score = []\n",
        "for i in range(num_classes):\n",
        "  f1_score.append( 2*( (recall[i]*precision[i]) / (recall[i]+precision[i])))\n",
        "\n",
        "print('F1-scores per classes are : {}'.format(f1_score))\n",
        "\n",
        "macro_f1 = 100 * np.sum(f1_score) / num_classes\n",
        "\n",
        "print('Macro averaged F1-score is : {} %'.format(macro_f1))\n",
        "\n",
        "weighted_f1 = 0\n",
        "for i in range(num_classes):\n",
        "  weighted_f1 += np.sum(conf_arr, axis = 0)[i] * f1_score[i]\n",
        "\n",
        "weighted_f1 = 100 * weighted_f1 / total\n",
        "print('Weighted F1-score is : {} %'.format(weighted_f1))  "
      ],
      "execution_count": null,
      "outputs": [
        {
          "output_type": "stream",
          "text": [
            "F1-scores per classes are : [0.6111111111111112, 0.8765652951699464, 0.8244766505636071, 0.8115942028985509, 0.8532818532818534, 0.8772413793103448]\n",
            "Macro averaged F1-score is : 80.90450820559023 %\n",
            "Weighted F1-score is : 83.46388783001437 %\n"
          ],
          "name": "stdout"
        }
      ]
    },
    {
      "cell_type": "markdown",
      "metadata": {
        "id": "TZP1GHbtB2T7"
      },
      "source": [
        "## 7) K-Fold Cross Validation *(Optional)*"
      ]
    },
    {
      "cell_type": "markdown",
      "metadata": {
        "id": "ayL96oOoB-aq"
      },
      "source": [
        "Evaluate your model based on the K-Fold Cross Validation approach. This step is optional and has a few extra points."
      ]
    },
    {
      "cell_type": "code",
      "metadata": {
        "id": "-Zxs_90TC-3b"
      },
      "source": [
        "# Your implementation"
      ],
      "execution_count": null,
      "outputs": []
    }
  ]
}